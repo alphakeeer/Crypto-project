{
 "cells": [
  {
   "cell_type": "code",
   "execution_count": 1,
   "id": "b0cc657b",
   "metadata": {},
   "outputs": [],
   "source": [
    "from crypto import (\n",
    "    generate_rsa_keypair,\n",
    "    rsa_encrypt,\n",
    "    rsa_decrypt,\n",
    "    generate_elgamal_keypair,\n",
    "    elgamal_encrypt,\n",
    "    elgamal_decrypt,\n",
    "    generate_ecc_elgamal_keypair,\n",
    "    ecc_elgamal_encrypt,\n",
    "    ecc_elgamal_decrypt,\n",
    ")"
   ]
  },
  {
   "cell_type": "code",
   "execution_count": null,
   "id": "36c8483b",
   "metadata": {},
   "outputs": [
    {
     "name": "stdout",
     "output_type": "stream",
     "text": [
      "Message: b'Hello, this is a test message!'\n",
      "rsa start\n",
      "RSA Encryption/Decryption:\n",
      "Encrypted message: b'DGG\\n\\xe8\\xef;\\xc3 X\\xcb\\x02\\x94\\xad\\x81\\x1dR\\xeb\\xedOQ\\xa3\\xaa\\x0e\\x80\\xf9N\\xe8\\x15fq\\xc69f\\xe0\\xc1\\xbf\\xaeotY[\\xdd\\xbcT\\xa2\\x01F\\xbaFm0\\xcbX\\xb3\\x1b\\x12\\xf6?\\xaa\\xa2\\xc5f\\x85'\n",
      "Decrypted message: b'Hello, this is a test message!'\n",
      "elgamal start\n",
      "\n",
      "ElGamal Encryption/Decryption:\n",
      "Encrypted message: (7982397095520447219026807768450417896752733162064801852687365266798156254023322232034828134607603853842444989724231753333688804767515122710961642542139466, 6336293678392595502352562204032317328572568616196427210061034147606363858460877002176152608885493944238891129209726197200760683493114136374918407587620832, [7872435618635808950286585234043860120691384155547990738586959061355357051101520156145405144409447097839577158441202564560924492149433449687004821340688210])\n",
      "Decrypted message: b'Hello, this is a test message!'\n",
      "ecc_elgamal start\n",
      "\n",
      "ECC ElGamal Encryption/Decryption:\n",
      "Encrypted message: b'\\x0e\\xd6\\xb6v\\x0b\\xceC\\xc3I\\\\\\xe9\\xb3\\xf4\\xf1\\x7f\\xd0\\xd1G\\xd0e\\xac{\\xf3\\xd7\\xf6\\xe5\\xf4\\xb4\\xdc\\xba'\n",
      "Decrypted message: b'Hello, this is a test message!'\n"
     ]
    }
   ],
   "source": [
    "# This is a simple test script to demonstrate the usage of the crypto module.\n",
    "# It generates RSA and ElGamal key pairs, encrypts a message with both algorithms,\n",
    "# and then decrypts the message back to its original form.\n",
    "\n",
    "def rsa(message):\n",
    "    print(\"RSA Encryption/Decryption:\")\n",
    "    # Generate RSA key pair\n",
    "    public_key, private_key = generate_rsa_keypair(512)\n",
    "\n",
    "    # Encrypt the message\n",
    "    encrypted_message = rsa_encrypt(message, public_key)\n",
    "    print(f\"Encrypted message: {encrypted_message}\")\n",
    "\n",
    "    # Decrypt the message\n",
    "    decrypted_message = rsa_decrypt(encrypted_message, private_key)\n",
    "    print(f\"Decrypted message: {decrypted_message}\")\n",
    "\n",
    "\n",
    "def elgamal(message):\n",
    "    print(\"\\nElGamal Encryption/Decryption:\")\n",
    "    # Generate ElGamal key pair\n",
    "    public_key, private_key = generate_elgamal_keypair(512)\n",
    "\n",
    "    # Encrypt the message\n",
    "    encrypted_message = elgamal_encrypt(message, public_key)\n",
    "    print(f\"Encrypted message: {encrypted_message}\")\n",
    "\n",
    "    # Decrypt the message\n",
    "    decrypted_message = elgamal_decrypt(encrypted_message, private_key)\n",
    "    print(f\"Decrypted message: {decrypted_message}\")\n",
    "\n",
    "\n",
    "def ecc_elgamal(message):\n",
    "    print(\"\\nECC ElGamal Encryption/Decryption:\")\n",
    "    # Generate ECC ElGamal key pair\n",
    "    public_key, private_key = generate_ecc_elgamal_keypair()\n",
    "\n",
    "    # Encrypt the message\n",
    "    R, encrypted_message = ecc_elgamal_encrypt(message, public_key)\n",
    "    print(f\"Encrypted message: {encrypted_message}\")\n",
    "\n",
    "    # Decrypt the message\n",
    "    decrypted_message = ecc_elgamal_decrypt(R, encrypted_message, private_key)\n",
    "    print(f\"Decrypted message: {decrypted_message}\")\n",
    "\n",
    "\n",
    "if __name__ == \"__main__\":\n",
    "    # Test message should be bytes\n",
    "    # For example, \"Hello, this is a test message!\" in bytes\n",
    "    # is b\"Hello, this is a test message!\"\n",
    "    # Ensure the message is in bytes\n",
    "    message = b\"Hello, this is a test message!\"\n",
    "    print(\"Message:\", message)\n",
    "    rsa(message)\n",
    "    elgamal(message)\n",
    "    ecc_elgamal(message)"
   ]
  }
 ],
 "metadata": {
  "kernelspec": {
   "display_name": "base",
   "language": "python",
   "name": "python3"
  },
  "language_info": {
   "codemirror_mode": {
    "name": "ipython",
    "version": 3
   },
   "file_extension": ".py",
   "mimetype": "text/x-python",
   "name": "python",
   "nbconvert_exporter": "python",
   "pygments_lexer": "ipython3",
   "version": "3.12.4"
  }
 },
 "nbformat": 4,
 "nbformat_minor": 5
}
