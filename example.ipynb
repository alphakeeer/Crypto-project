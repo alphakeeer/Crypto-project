{
 "cells": [
  {
   "cell_type": "code",
   "execution_count": 3,
   "id": "b0cc657b",
   "metadata": {},
   "outputs": [],
   "source": [
    "from crypto import (\n",
    "    generate_rsa_keypair,\n",
    "    rsa_encrypt,\n",
    "    rsa_decrypt,\n",
    "    generate_elgamal_keypair,\n",
    "    elgamal_encrypt,\n",
    "    elgamal_decrypt,\n",
    ")"
   ]
  },
  {
   "cell_type": "code",
   "execution_count": null,
   "id": "36c8483b",
   "metadata": {},
   "outputs": [
    {
     "name": "stdout",
     "output_type": "stream",
     "text": [
      "\n",
      "ElGamal Encryption/Decryption:\n",
      "Encrypted message: (4207063548723075323151764074481596418092907061057939625317253247190123199530141343113301792734414055088997976858184263471355646458021446039284070944503988, 6565447981593331468779763852236305960198620476431246489532711388683825286740824695524554012543808925741321388692407832105345089923812151201541420074628401, [8332183086128695618924370854273088301667698773789761978499218200096472458228953139121177806007585730050387950950173461454937811395393646584847687775930350])\n",
      "Decrypted message: b'Hello, this is a test message!'\n"
     ]
    }
   ],
   "source": [
    "# This is a simple test script to demonstrate the usage of the crypto module.\n",
    "# It generates RSA and ElGamal key pairs, encrypts a message with both algorithms,\n",
    "# and then decrypts the message back to its original form.\n",
    "\n",
    "def rsa(message):\n",
    "    print(\"RSA Encryption/Decryption:\")\n",
    "    # Generate RSA key pair\n",
    "    public_key, private_key = generate_rsa_keypair(512)\n",
    "\n",
    "    # Encrypt the message\n",
    "    encrypted_message = rsa_encrypt(message, public_key)\n",
    "    print(f\"Encrypted message: {encrypted_message}\")\n",
    "\n",
    "    # Decrypt the message\n",
    "    decrypted_message = rsa_decrypt(encrypted_message, private_key)\n",
    "    print(f\"Decrypted message: {decrypted_message}\")\n",
    "\n",
    "\n",
    "def elgamal(message):\n",
    "    print(\"\\nElGamal Encryption/Decryption:\")\n",
    "    # Generate ElGamal key pair\n",
    "    public_key, private_key = generate_elgamal_keypair(512)\n",
    "\n",
    "    # Encrypt the message\n",
    "    encrypted_message = elgamal_encrypt(message, public_key)\n",
    "    print(f\"Encrypted message: {encrypted_message}\")\n",
    "\n",
    "    # Decrypt the message\n",
    "    decrypted_message = elgamal_decrypt(encrypted_message, private_key)\n",
    "    print(f\"Decrypted message: {decrypted_message}\")\n",
    "\n",
    "\n",
    "if __name__ == \"__main__\":\n",
    "    # Test message should be bytes\n",
    "    # For example, \"Hello, this is a test message!\" in bytes\n",
    "    # is b\"Hello, this is a test message!\"\n",
    "    # Ensure the message is in bytes\n",
    "    message = b\"Hello, this is a test message!\"\n",
    "    elgamal(message)"
   ]
  }
 ],
 "metadata": {
  "kernelspec": {
   "display_name": "base",
   "language": "python",
   "name": "python3"
  },
  "language_info": {
   "codemirror_mode": {
    "name": "ipython",
    "version": 3
   },
   "file_extension": ".py",
   "mimetype": "text/x-python",
   "name": "python",
   "nbconvert_exporter": "python",
   "pygments_lexer": "ipython3",
   "version": "3.12.4"
  }
 },
 "nbformat": 4,
 "nbformat_minor": 5
}
